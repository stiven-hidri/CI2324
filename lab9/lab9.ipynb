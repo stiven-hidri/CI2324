{
 "cells": [
  {
   "cell_type": "markdown",
   "metadata": {},
   "source": [
    "Copyright **`(c)`** 2023 Giovanni Squillero `<giovanni.squillero@polito.it>`  \n",
    "[`https://github.com/squillero/computational-intelligence`](https://github.com/squillero/computational-intelligence)  \n",
    "Free for personal or classroom use; see [`LICENSE.md`](https://github.com/squillero/computational-intelligence/blob/master/LICENSE.md) for details.  "
   ]
  },
  {
   "cell_type": "markdown",
   "metadata": {},
   "source": [
    "# LAB9\n",
    "\n",
    "Write a local-search algorithm (eg. an EA) able to solve the *Problem* instances 1, 2, 5, and 10 on a 1000-loci genomes, using a minimum number of fitness calls. That's all.\n",
    "\n",
    "### Deadlines:\n",
    "\n",
    "* Submission: Sunday, December 3 ([CET](https://www.timeanddate.com/time/zones/cet))\n",
    "* Reviews: Sunday, December 10 ([CET](https://www.timeanddate.com/time/zones/cet))\n",
    "\n",
    "Notes:\n",
    "\n",
    "* Reviews will be assigned  on Monday, December 4\n",
    "* You need to commit in order to be selected as a reviewer (ie. better to commit an empty work than not to commit)"
   ]
  },
  {
   "cell_type": "code",
   "execution_count": 498,
   "metadata": {},
   "outputs": [],
   "source": [
    "from random import randint, choice, choices, random\n",
    "from copy import deepcopy\n",
    "from lab9_lib import make_problem\n",
    "import sys"
   ]
  },
  {
   "cell_type": "code",
   "execution_count": 499,
   "metadata": {},
   "outputs": [],
   "source": [
    "POPULATION_SIZE = 200\n",
    "OFFSPRING_SIZE = 50\n",
    "MUTATION_PROBABILITY = 0.7\n",
    "XOVER_PROBABILITY = 0.3\n",
    "XOR_PROBABILITY = 0.3\n",
    "REORDER_PROBABILITY = 0.7\n",
    "TOURNAMENT_SIZE = 50\n",
    "GENERATIONS = 1000\n",
    "PROBLEM_SIZE = [1,2,5,10]\n",
    "K=1000"
   ]
  },
  {
   "cell_type": "code",
   "execution_count": 500,
   "metadata": {},
   "outputs": [],
   "source": [
    "from random import sample, shuffle\n",
    "counter = 0\n",
    "\n",
    "class Individual():\n",
    "    id = -1\n",
    "    fitness=-1\n",
    "    genotype=[]\n",
    "    def __init__(self, _fitness, _genotype):\n",
    "        self.id = ++counter\n",
    "        self.fitness = _fitness\n",
    "        self.genotype = _genotype \n",
    "        self.myscore = sum(self.genotype[:int(K/2)])\n",
    "\n",
    "    def __getitem__(self, i):\n",
    "        return self.genotype[i]\n",
    "    \n",
    "    def __setitem__(self, i, v):\n",
    "        self.genotype[i] = v\n",
    "    \n",
    "    def __len__(self):\n",
    "        return len(self.genotype)\n",
    "\n",
    "def select_parent(pop):\n",
    "    pool = choices(pop, k=TOURNAMENT_SIZE)\n",
    "    champion = max(pool, key=lambda i: i.fitness)\n",
    "    return champion\n",
    "\n",
    "def mutate(ind: Individual) -> Individual:\n",
    "    offspring = deepcopy(ind)\n",
    "    pos = randint(0, K-1)\n",
    "    offspring.genotype[pos] = 1 - offspring.genotype[pos]\n",
    "    offspring.fitness = -1\n",
    "    return offspring\n",
    "\n",
    "def mutate_N(ind: Individual) -> Individual:\n",
    "    offspring = deepcopy(ind)\n",
    "    how_many = randint(1, K)\n",
    "    targets = sample(range(K), k=how_many)\n",
    "    for t in targets:\n",
    "        offspring.genotype[t] = 1 - offspring.genotype[t]\n",
    "    offspring.fitness = -1\n",
    "    return offspring\n",
    "\n",
    "def reorder(ind: Individual) -> Individual:\n",
    "    offspring = deepcopy(ind)\n",
    "    shuffle(offspring.genotype)\n",
    "    return offspring\n",
    "\n",
    "def xor(ind1: Individual, ind2: Individual) -> Individual:\n",
    "    offspring = deepcopy(ind1)\n",
    "    offspring.genotype = [ind1[i]^ind2[i] for (i, g) in enumerate(ind1.genotype)]\n",
    "    return offspring\n",
    "\n",
    "def xover(ind1: Individual, ind2: Individual) -> Individual:\n",
    "    how_many = randint(1, K)\n",
    "    targets = sample(range(K), k=how_many)\n",
    "    offspring = deepcopy(ind1)\n",
    "    for t in targets:\n",
    "        offspring[t] = ind2[t] \n",
    "    assert len(offspring.genotype) == K\n",
    "    return offspring"
   ]
  },
  {
   "cell_type": "markdown",
   "metadata": {},
   "source": [
    "# Generate Population"
   ]
  },
  {
   "cell_type": "code",
   "execution_count": 501,
   "metadata": {},
   "outputs": [],
   "source": [
    "population = []\n",
    "for n in range(10):\n",
    "    g = choices([0, 1], k=K)\n",
    "    mo = sum(g)\n",
    "    ind = Individual(-1, g)\n",
    "    population.append(ind)"
   ]
  },
  {
   "cell_type": "code",
   "execution_count": 502,
   "metadata": {},
   "outputs": [
    {
     "name": "stdout",
     "output_type": "stream",
     "text": [
      "S=1\t0.4%\t\tmaxFitness:0.57\t\tcalls:191\r"
     ]
    },
    {
     "name": "stdout",
     "output_type": "stream",
     "text": [
      "S=1\t\tresult:Success\t\tmaxFitness:1.0\t\tcalls:3337\n",
      "S=2\t10.9%\t\tmaxFitness:0.63\t\tcalls:5103\r"
     ]
    },
    {
     "ename": "KeyboardInterrupt",
     "evalue": "",
     "output_type": "error",
     "traceback": [
      "\u001b[0;31m---------------------------------------------------------------------------\u001b[0m",
      "\u001b[0;31mKeyboardInterrupt\u001b[0m                         Traceback (most recent call last)",
      "\u001b[1;32m/home/stiven/Documents/CI/CI2324/lab9/lab9.ipynb Cell 8\u001b[0m line \u001b[0;36m2\n\u001b[1;32m     <a href='vscode-notebook-cell:/home/stiven/Documents/CI/CI2324/lab9/lab9.ipynb#X10sZmlsZQ%3D%3D?line=20'>21</a>\u001b[0m         o \u001b[39m=\u001b[39m reorder(o)\n\u001b[1;32m     <a href='vscode-notebook-cell:/home/stiven/Documents/CI/CI2324/lab9/lab9.ipynb#X10sZmlsZQ%3D%3D?line=21'>22</a>\u001b[0m     \u001b[39melse\u001b[39;00m:\n\u001b[0;32m---> <a href='vscode-notebook-cell:/home/stiven/Documents/CI/CI2324/lab9/lab9.ipynb#X10sZmlsZQ%3D%3D?line=22'>23</a>\u001b[0m         p \u001b[39m=\u001b[39m select_parent(pop)\n\u001b[1;32m     <a href='vscode-notebook-cell:/home/stiven/Documents/CI/CI2324/lab9/lab9.ipynb#X10sZmlsZQ%3D%3D?line=23'>24</a>\u001b[0m         o \u001b[39m=\u001b[39m reorder(p)\n\u001b[1;32m     <a href='vscode-notebook-cell:/home/stiven/Documents/CI/CI2324/lab9/lab9.ipynb#X10sZmlsZQ%3D%3D?line=25'>26</a>\u001b[0m \u001b[39mif\u001b[39;00m random() \u001b[39m<\u001b[39m MUTATION_PROBABILITY:\n",
      "\u001b[1;32m/home/stiven/Documents/CI/CI2324/lab9/lab9.ipynb Cell 8\u001b[0m line \u001b[0;36m2\n\u001b[1;32m     <a href='vscode-notebook-cell:/home/stiven/Documents/CI/CI2324/lab9/lab9.ipynb#X10sZmlsZQ%3D%3D?line=22'>23</a>\u001b[0m \u001b[39mdef\u001b[39;00m \u001b[39mselect_parent\u001b[39m(pop):\n\u001b[1;32m     <a href='vscode-notebook-cell:/home/stiven/Documents/CI/CI2324/lab9/lab9.ipynb#X10sZmlsZQ%3D%3D?line=23'>24</a>\u001b[0m     pool \u001b[39m=\u001b[39m choices(pop, k\u001b[39m=\u001b[39mTOURNAMENT_SIZE)\n\u001b[0;32m---> <a href='vscode-notebook-cell:/home/stiven/Documents/CI/CI2324/lab9/lab9.ipynb#X10sZmlsZQ%3D%3D?line=24'>25</a>\u001b[0m     champion \u001b[39m=\u001b[39m \u001b[39mmax\u001b[39;49m(pool, key\u001b[39m=\u001b[39;49m\u001b[39mlambda\u001b[39;49;00m i: i\u001b[39m.\u001b[39;49mfitness)\n\u001b[1;32m     <a href='vscode-notebook-cell:/home/stiven/Documents/CI/CI2324/lab9/lab9.ipynb#X10sZmlsZQ%3D%3D?line=25'>26</a>\u001b[0m     \u001b[39mreturn\u001b[39;00m champion\n",
      "\u001b[1;32m/home/stiven/Documents/CI/CI2324/lab9/lab9.ipynb Cell 8\u001b[0m line \u001b[0;36m2\n\u001b[1;32m     <a href='vscode-notebook-cell:/home/stiven/Documents/CI/CI2324/lab9/lab9.ipynb#X10sZmlsZQ%3D%3D?line=22'>23</a>\u001b[0m \u001b[39mdef\u001b[39;00m \u001b[39mselect_parent\u001b[39m(pop):\n\u001b[1;32m     <a href='vscode-notebook-cell:/home/stiven/Documents/CI/CI2324/lab9/lab9.ipynb#X10sZmlsZQ%3D%3D?line=23'>24</a>\u001b[0m     pool \u001b[39m=\u001b[39m choices(pop, k\u001b[39m=\u001b[39mTOURNAMENT_SIZE)\n\u001b[0;32m---> <a href='vscode-notebook-cell:/home/stiven/Documents/CI/CI2324/lab9/lab9.ipynb#X10sZmlsZQ%3D%3D?line=24'>25</a>\u001b[0m     champion \u001b[39m=\u001b[39m \u001b[39mmax\u001b[39m(pool, key\u001b[39m=\u001b[39m\u001b[39mlambda\u001b[39;00m i: i\u001b[39m.\u001b[39mfitness)\n\u001b[1;32m     <a href='vscode-notebook-cell:/home/stiven/Documents/CI/CI2324/lab9/lab9.ipynb#X10sZmlsZQ%3D%3D?line=25'>26</a>\u001b[0m     \u001b[39mreturn\u001b[39;00m champion\n",
      "\u001b[0;31mKeyboardInterrupt\u001b[0m: "
     ]
    }
   ],
   "source": [
    "for s in PROBLEM_SIZE:\n",
    "    fitness = make_problem(s)\n",
    "    pop = deepcopy(population)\n",
    "    maxF = -1\n",
    "    result = \"Failure\"\n",
    "    \n",
    "    for p in pop:\n",
    "        p.fitness = fitness(p)\n",
    "        if p.fitness>maxF:\n",
    "            maxF = p.fitness\n",
    "        \n",
    "    g=0\n",
    "    stillNoPerfectIndividual = True\n",
    "    while g < GENERATIONS and stillNoPerfectIndividual:\n",
    "        offspring = list()\n",
    "        for counter in range(OFFSPRING_SIZE):\n",
    "            o = None\n",
    "            if random() < XOVER_PROBABILITY:\n",
    "                # xover # add more xovers\n",
    "                    p1 = select_parent(pop)\n",
    "                    p2 = select_parent(pop)\n",
    "                    o = xover(p1, p2)\n",
    "                    offspring.append(o)\n",
    "            \n",
    "            if random() < REORDER_PROBABILITY:\n",
    "                if o is not None:\n",
    "                    o = reorder(o)\n",
    "                else:\n",
    "                    p = select_parent(pop)\n",
    "                    o = reorder(p)\n",
    "            \n",
    "            if random() < MUTATION_PROBABILITY:\n",
    "                if o is not None:\n",
    "                    o = mutate(o)\n",
    "                else:\n",
    "                    p = select_parent(pop)\n",
    "                    o = mutate(p)\n",
    "\n",
    "            if o is not None:\n",
    "              offspring.append(o)\n",
    "\n",
    "        for o in offspring:\n",
    "            o.fitness = fitness(o.genotype)\n",
    "\n",
    "            if o.fitness>maxF:\n",
    "                maxF = o.fitness\n",
    "            \n",
    "            if maxF == 1.0:\n",
    "                stillNoPerfectIndividual=False\n",
    "                result = \"Success\"\n",
    "                break\n",
    "\n",
    "        if not stillNoPerfectIndividual:\n",
    "            break\n",
    "\n",
    "        pop.extend(offspring)\n",
    "        pop.sort(key=lambda i: i.fitness, reverse=True)\n",
    "        pop = pop[:POPULATION_SIZE]\n",
    "    \n",
    "        g+=1\n",
    "\n",
    "        print(f\"S={s}\\t{round(g/GENERATIONS*100, 2)}%\\t\\tmaxFitness:{round(maxF,2)}\\t\\tcalls:{fitness.calls}\", end=\"\\r\")\n",
    "\n",
    "    print(f\"S={s}\\t\\tresult:{result}\\t\\tmaxFitness:{round(maxF,2)}\\t\\tcalls:{fitness.calls}\", end=\"\\n\")"
   ]
  }
 ],
 "metadata": {
  "kernelspec": {
   "display_name": "ci-fLJ3OwGs-py3.12",
   "language": "python",
   "name": "python3"
  },
  "language_info": {
   "codemirror_mode": {
    "name": "ipython",
    "version": 3
   },
   "file_extension": ".py",
   "mimetype": "text/x-python",
   "name": "python",
   "nbconvert_exporter": "python",
   "pygments_lexer": "ipython3",
   "version": "3.11.6"
  }
 },
 "nbformat": 4,
 "nbformat_minor": 2
}
